{
 "cells": [
  {
   "attachments": {},
   "cell_type": "markdown",
   "metadata": {},
   "source": [
    "# Assignment 1"
   ]
  },
  {
   "cell_type": "markdown",
   "metadata": {},
   "source": [
    "In the shared drive ```cds-vis-data```, you'll find a directory comprising 1360 different images of flowers. Many of these are different images of the same flower.\n",
    "\n",
    "In groups, do the following activity:\n",
    "\n",
    "- Pick a random flower from the dataset, load it, and normalize it\n",
    "- Compare that image's colour histogram to every *other* flower in the dataset\n",
    "- Print save the filename of the 5 closest images, along with the distance score you calculated\n",
    "  - **Hint:** use ```pandas```\n",
    "- Qualitatively inspect the images - how does your algorithm perform?\n",
    "- Rewrite your code as a function which takes any input filename from a user and produces the new results showing top 5 closest images for the chosen image\n",
    "\n",
    "This in-class exercise is going to be *Assignment 1* for Visual Analytics, designing a simple *image search* algorithm. The Github classroom repo for this Assignment will go online later."
   ]
  },
  {
   "cell_type": "code",
   "execution_count": 2,
   "metadata": {},
   "outputs": [],
   "source": [
    "import os\n",
    "import sys\n",
    "sys.path.append(os.path.join(\"..\"))\n",
    "import cv2\n",
    "import numpy as np\n",
    "from utils.imutils import jimshow\n",
    "from utils.imutils import jimshow_channel\n",
    "import matplotlib.pyplot as plt"
   ]
  },
  {
   "attachments": {},
   "cell_type": "markdown",
   "metadata": {},
   "source": [
    "## Pick a random flower from the dataset, load it, and normalize it"
   ]
  },
  {
   "cell_type": "code",
   "execution_count": 5,
   "metadata": {},
   "outputs": [
    {
     "name": "stderr",
     "output_type": "stream",
     "text": [
      "[ WARN:0@114.394] global loadsave.cpp:244 findDecoder imread_('../flowers/image_0001.jpg'): can't open/read file: check file path/integrity\n"
     ]
    }
   ],
   "source": [
    "# loading my chosen image (the first one)\n",
    "#image = cv2.imread(os.path.join(\"..\", \"flowers\", \"image_0001.jpg\")) # for some reason my \"cds-vis-data\" folder is called \"431824\" in uCloud\n",
    "image = cv2.imread(\"../flowers/image_0001.jpg\")\n",
    "#jimshow(image)\n",
    "#os.path.join(\"..\", \"..\", \"flowers\", \"image_0001.jpg\")"
   ]
  },
  {
   "cell_type": "code",
   "execution_count": null,
   "metadata": {},
   "outputs": [],
   "source": []
  }
 ],
 "metadata": {
  "kernelspec": {
   "display_name": "Python 3",
   "language": "python",
   "name": "python3"
  },
  "language_info": {
   "codemirror_mode": {
    "name": "ipython",
    "version": 3
   },
   "file_extension": ".py",
   "mimetype": "text/x-python",
   "name": "python",
   "nbconvert_exporter": "python",
   "pygments_lexer": "ipython3",
   "version": "3.9.1"
  },
  "orig_nbformat": 4,
  "vscode": {
   "interpreter": {
    "hash": "aee8b7b246df8f9039afb4144a1f6fd8d2ca17a180786b69acc140d282b71a49"
   }
  }
 },
 "nbformat": 4,
 "nbformat_minor": 2
}
