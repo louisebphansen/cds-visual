{
 "cells": [
  {
   "attachments": {},
   "cell_type": "markdown",
   "metadata": {},
   "source": [
    "# Assignment 1"
   ]
  },
  {
   "cell_type": "markdown",
   "metadata": {},
   "source": [
    "In the shared drive ```cds-vis-data```, you'll find a directory comprising 1360 different images of flowers. Many of these are different images of the same flower.\n",
    "\n",
    "In groups, do the following activity:\n",
    "\n",
    "- Pick a random flower from the dataset, load it, and normalize it\n",
    "- Compare that image's colour histogram to every *other* flower in the dataset\n",
    "- Print save the filename of the 5 closest images, along with the distance score you calculated\n",
    "  - **Hint:** use ```pandas```\n",
    "- Qualitatively inspect the images - how does your algorithm perform?\n",
    "- Rewrite your code as a function which takes any input filename from a user and produces the new results showing top 5 closest images for the chosen image\n",
    "\n",
    "This in-class exercise is going to be *Assignment 1* for Visual Analytics, designing a simple *image search* algorithm. The Github classroom repo for this Assignment will go online later."
   ]
  },
  {
   "cell_type": "code",
   "execution_count": null,
   "metadata": {},
   "outputs": [],
   "source": []
  }
 ],
 "metadata": {
  "kernelspec": {
   "display_name": "Python 3",
   "language": "python",
   "name": "python3"
  },
  "language_info": {
   "name": "python",
   "version": "3.9.1"
  },
  "orig_nbformat": 4,
  "vscode": {
   "interpreter": {
    "hash": "aee8b7b246df8f9039afb4144a1f6fd8d2ca17a180786b69acc140d282b71a49"
   }
  }
 },
 "nbformat": 4,
 "nbformat_minor": 2
}
